{
  "cells": [
    {
      "cell_type": "markdown",
      "metadata": {
        "id": "view-in-github",
        "colab_type": "text"
      },
      "source": [
        "<a href=\"https://colab.research.google.com/github/piusAI/Pytorch_Study/blob/main/05_buildmodel_tutorial.ipynb\" target=\"_parent\"><img src=\"https://colab.research.google.com/assets/colab-badge.svg\" alt=\"Open In Colab\"/></a>"
      ]
    },
    {
      "cell_type": "code",
      "execution_count": 2,
      "metadata": {
        "id": "nPION3Az9qhc"
      },
      "outputs": [],
      "source": [
        "# For tips on running notebooks in Google Colab, see\n",
        "# https://pytorch.org/tutorials/beginner/colab\n",
        "%matplotlib inline"
      ]
    },
    {
      "cell_type": "markdown",
      "metadata": {
        "id": "6HqC_ig19qhe"
      },
      "source": [
        "[Learn the Basics](intro.html) \\|\\|\n",
        "[Quickstart](quickstart_tutorial.html) \\|\\|\n",
        "[Tensors](tensorqs_tutorial.html) \\|\\| [Datasets &\n",
        "DataLoaders](data_tutorial.html) \\|\\|\n",
        "[Transforms](transforms_tutorial.html) \\|\\| **Build Model** \\|\\|\n",
        "[Autograd](autogradqs_tutorial.html) \\|\\|\n",
        "[Optimization](optimization_tutorial.html) \\|\\| [Save & Load\n",
        "Model](saveloadrun_tutorial.html)\n",
        "\n",
        "Build the Neural Network\n",
        "========================\n",
        "\n",
        "Neural networks comprise of layers/modules that perform operations on\n",
        "data. The [torch.nn](https://pytorch.org/docs/stable/nn.html) namespace\n",
        "provides all the building blocks you need to build your own neural\n",
        "network. Every module in PyTorch subclasses the\n",
        "[nn.Module](https://pytorch.org/docs/stable/generated/torch.nn.Module.html).\n",
        "A neural network is a module itself that consists of other modules\n",
        "(layers). This nested structure allows for building and managing complex\n",
        "architectures easily.\n",
        "\n",
        "In the following sections, we\\'ll build a neural network to classify\n",
        "images in the FashionMNIST dataset.\n"
      ]
    },
    {
      "cell_type": "code",
      "source": [
        "import os\n",
        "import torch\n",
        "from torch import nn\n",
        "from torch.utils.data import DataLoader\n",
        "from torchvision import datasets, transforms"
      ],
      "metadata": {
        "id": "ZUK2IKHh-Crc"
      },
      "execution_count": 3,
      "outputs": []
    },
    {
      "cell_type": "markdown",
      "metadata": {
        "id": "K_Qgymky9qhf"
      },
      "source": [
        "Get Device for Training\n",
        "=======================\n",
        "\n",
        "We want to be able to train our model on an\n",
        "[accelerator](https://pytorch.org/docs/stable/torch.html#accelerators)\n",
        "such as CUDA, MPS, MTIA, or XPU. If the current accelerator is\n",
        "available, we will use it. Otherwise, we use the CPU.\n"
      ]
    },
    {
      "cell_type": "code",
      "source": [
        "device = torch.accelerator.current_accelerator().type if torch.accelerator.is_available() else \"cpu\"\n",
        "print(f\"now, I'm Using {device} device!\")"
      ],
      "metadata": {
        "colab": {
          "base_uri": "https://localhost:8080/"
        },
        "id": "i8RTSWfK_Xlz",
        "outputId": "a7309226-8247-4452-ce58-ac446288f376"
      },
      "execution_count": 4,
      "outputs": [
        {
          "output_type": "stream",
          "name": "stdout",
          "text": [
            "now, I'm Using cpu device!\n"
          ]
        }
      ]
    },
    {
      "cell_type": "markdown",
      "metadata": {
        "id": "lD2CXCmO9qhf"
      },
      "source": [
        "Define the Class\n",
        "================\n",
        "\n",
        "We define our neural network by subclassing `nn.Module`, and initialize\n",
        "the neural network layers in `__init__`. Every `nn.Module` subclass\n",
        "implements the operations on input data in the `forward` method.\n"
      ]
    },
    {
      "cell_type": "code",
      "source": [
        "class NeuralNetwork(nn.Module):\n",
        "  def __init__(self):\n",
        "    super().__init__()\n",
        "    self.flatten = nn.Flatten()\n",
        "    self.linear_relu_stack = nn.Sequential(\n",
        "        nn.Linear(28*28, 512),\n",
        "        nn.ReLU(),\n",
        "        nn.Linear(512, 512),\n",
        "        nn.ReLU(),\n",
        "        nn.Linear(512, 10),\n",
        "\n",
        "        )\n",
        "  def forward(self, x):\n",
        "    x = self.flatten(x)\n",
        "    logits = self.linear_relu_stack(x)\n",
        "    return logits"
      ],
      "metadata": {
        "id": "aLFp2ZTzBFQz"
      },
      "execution_count": 5,
      "outputs": []
    },
    {
      "cell_type": "markdown",
      "metadata": {
        "id": "O3PeG5if9qhg"
      },
      "source": [
        "We create an instance of `NeuralNetwork`, and move it to the `device`,\n",
        "and print its structure.\n"
      ]
    },
    {
      "cell_type": "code",
      "source": [
        "model = NeuralNetwork().to(device)\n",
        "print(model)"
      ],
      "metadata": {
        "colab": {
          "base_uri": "https://localhost:8080/"
        },
        "id": "zq7DRN-uDW_U",
        "outputId": "de5aa648-ebe1-46cf-a113-81c4d12b3ac1"
      },
      "execution_count": 34,
      "outputs": [
        {
          "output_type": "stream",
          "name": "stdout",
          "text": [
            "NeuralNetwork(\n",
            "  (flatten): Flatten(start_dim=1, end_dim=-1)\n",
            "  (linear_relu_stack): Sequential(\n",
            "    (0): Linear(in_features=784, out_features=512, bias=True)\n",
            "    (1): ReLU()\n",
            "    (2): Linear(in_features=512, out_features=512, bias=True)\n",
            "    (3): ReLU()\n",
            "    (4): Linear(in_features=512, out_features=10, bias=True)\n",
            "  )\n",
            ")\n"
          ]
        }
      ]
    },
    {
      "cell_type": "markdown",
      "metadata": {
        "id": "fbJ5g6U69qhg"
      },
      "source": [
        "To use the model, we pass it the input data. This executes the model\\'s\n",
        "`forward`, along with some [background\n",
        "operations](https://github.com/pytorch/pytorch/blob/270111b7b611d174967ed204776985cefca9c144/torch/nn/modules/module.py#L866).\n",
        "Do not call `model.forward()` directly!\n",
        "\n",
        "Calling the model on the input returns a 2-dimensional tensor with dim=0\n",
        "corresponding to each output of 10 raw predicted values for each class,\n",
        "and dim=1 corresponding to the individual values of each output. We get\n",
        "the prediction probabilities by passing it through an instance of the\n",
        "`nn.Softmax` module.\n"
      ]
    },
    {
      "cell_type": "code",
      "source": [
        "X= torch.rand(1, 28, 28, device = device)\n",
        "logits = model(X)\n",
        "pred_probab = nn.Softmax(dim=1)(logits)\n",
        "y_pred = pred_probab.argmax(1)\n",
        "print(f'predicted class : {y_pred}')\n",
        "# print(next(iter(X)))"
      ],
      "metadata": {
        "colab": {
          "base_uri": "https://localhost:8080/"
        },
        "id": "nra9_KFxaQVw",
        "outputId": "5a94074b-95ae-4d21-acd9-e113b1d7b5aa"
      },
      "execution_count": 38,
      "outputs": [
        {
          "output_type": "stream",
          "name": "stdout",
          "text": [
            "predicted class : tensor([0])\n"
          ]
        }
      ]
    },
    {
      "cell_type": "markdown",
      "source": [
        "Function chaining / Function Instantiation and Immediate call."
      ],
      "metadata": {
        "id": "O0hL5AHQbPEO"
      }
    },
    {
      "cell_type": "code",
      "source": [
        "softmax_fn = nn.Softmax(dim=1) # like function\n",
        "pred_probab2 = softmax_fn(logits)\n",
        "\n",
        "pred_probab3 = nn.Softmax(dim=1)(logits) #collable object for function\n",
        "\n",
        "print(pred_probab2,\"\\n\")\n",
        "print(pred_probab3)"
      ],
      "metadata": {
        "id": "SpPKegTHbUSK",
        "outputId": "0d62aa49-0c2e-4ce1-9d7b-7a8aa09c9a71",
        "colab": {
          "base_uri": "https://localhost:8080/"
        }
      },
      "execution_count": 39,
      "outputs": [
        {
          "output_type": "stream",
          "name": "stdout",
          "text": [
            "tensor([[0.1048, 0.0948, 0.1035, 0.1036, 0.1012, 0.0944, 0.0998, 0.1000, 0.1041,\n",
            "         0.0938]], grad_fn=<SoftmaxBackward0>) \n",
            "\n",
            "tensor([[0.1048, 0.0948, 0.1035, 0.1036, 0.1012, 0.0944, 0.0998, 0.1000, 0.1041,\n",
            "         0.0938]], grad_fn=<SoftmaxBackward0>)\n"
          ]
        }
      ]
    },
    {
      "cell_type": "markdown",
      "metadata": {
        "id": "YyO8RHfE9qhh"
      },
      "source": [
        "------------------------------------------------------------------------\n"
      ]
    },
    {
      "cell_type": "markdown",
      "metadata": {
        "id": "jxB4GdKQ9qhh"
      },
      "source": [
        "Model Layers\n",
        "============\n",
        "\n",
        "Let\\'s break down the layers in the FashionMNIST model. To illustrate\n",
        "it, we will take a sample minibatch of 3 images of size 28x28 and see\n",
        "what happens to it as we pass it through the network.\n"
      ]
    },
    {
      "cell_type": "code",
      "source": [
        "input_image = torch.rand(3,28,28)\n",
        "print(input_image.size())"
      ],
      "metadata": {
        "id": "-MBtbaSter2R",
        "outputId": "e7370267-1923-4ca8-ef17-6f3adf3781ce",
        "colab": {
          "base_uri": "https://localhost:8080/"
        }
      },
      "execution_count": 42,
      "outputs": [
        {
          "output_type": "stream",
          "name": "stdout",
          "text": [
            "torch.Size([3, 28, 28])\n"
          ]
        }
      ]
    },
    {
      "cell_type": "markdown",
      "metadata": {
        "id": "Vq4WT_Mu9qhh"
      },
      "source": [
        "nn.Flatten\n",
        "==========\n",
        "\n",
        "We initialize the\n",
        "[nn.Flatten](https://pytorch.org/docs/stable/generated/torch.nn.Flatten.html)\n",
        "layer to convert each 2D 28x28 image into a contiguous array of 784\n",
        "pixel values ( the minibatch dimension (at dim=0) is maintained).\n"
      ]
    },
    {
      "cell_type": "code",
      "source": [
        "flatten= nn.Flatten()\n",
        "flat_image = flatten(input_image)\n",
        "print(flat_image.size())"
      ],
      "metadata": {
        "id": "9g46-3iqe0iN",
        "outputId": "17dc9762-ab8e-4452-a84d-2545d71d2736",
        "colab": {
          "base_uri": "https://localhost:8080/"
        }
      },
      "execution_count": 43,
      "outputs": [
        {
          "output_type": "stream",
          "name": "stdout",
          "text": [
            "torch.Size([3, 784])\n"
          ]
        }
      ]
    },
    {
      "cell_type": "markdown",
      "metadata": {
        "id": "nH9n4bZj9qhh"
      },
      "source": [
        "nn.Linear\n",
        "=========\n",
        "\n",
        "The [linear\n",
        "layer](https://pytorch.org/docs/stable/generated/torch.nn.Linear.html)\n",
        "is a module that applies a linear transformation on the input using its\n",
        "stored weights and biases.\n"
      ]
    },
    {
      "cell_type": "code",
      "source": [
        "layer1 = nn.Linear(in_features = 28*28, out_features=20)\n",
        "hidden2= layer1(flat_image)\n",
        "print(hidden2.size())"
      ],
      "metadata": {
        "id": "gZKYPQKie-JD",
        "outputId": "91aeb01c-1f3b-47ac-8921-8ff99738d0f9",
        "colab": {
          "base_uri": "https://localhost:8080/"
        }
      },
      "execution_count": 45,
      "outputs": [
        {
          "output_type": "stream",
          "name": "stdout",
          "text": [
            "torch.Size([3, 20])\n"
          ]
        }
      ]
    },
    {
      "cell_type": "code",
      "execution_count": 50,
      "metadata": {
        "id": "Ar-LkHVV9qhh",
        "outputId": "96180a5f-31dc-4433-e805-550f7b89ae6b",
        "colab": {
          "base_uri": "https://localhost:8080/"
        }
      },
      "outputs": [
        {
          "output_type": "stream",
          "name": "stdout",
          "text": [
            "torch.Size([3, 20])\n"
          ]
        }
      ],
      "source": [
        "layer1 = nn.Linear(in_features=28*28, out_features=20)\n",
        "hidden1 = layer1(flat_image)\n",
        "print(hidden1.size())"
      ]
    },
    {
      "cell_type": "markdown",
      "metadata": {
        "id": "a0EAYQqJ9qhh"
      },
      "source": [
        "nn.ReLU\n",
        "=======\n",
        "\n",
        "Non-linear activations are what create the complex mappings between the\n",
        "model\\'s inputs and outputs. They are applied after linear\n",
        "transformations to introduce *nonlinearity*, helping neural networks\n",
        "learn a wide variety of phenomena.\n",
        "\n",
        "In this model, we use\n",
        "[nn.ReLU](https://pytorch.org/docs/stable/generated/torch.nn.ReLU.html)\n",
        "between our linear layers, but there\\'s other activations to introduce\n",
        "non-linearity in your model.\n"
      ]
    },
    {
      "cell_type": "code",
      "source": [
        "print(f'Before Relu: {hidden2}\\n\\n')\n",
        "hidden2= nn.ReLU()(hidden2)\n",
        "print(f'After hidden2 : {hidden2}')"
      ],
      "metadata": {
        "id": "jbEzt3v6fOkn",
        "outputId": "ebe665ea-5dc8-40f7-d8b8-16d0d41e4bb7",
        "colab": {
          "base_uri": "https://localhost:8080/"
        }
      },
      "execution_count": 48,
      "outputs": [
        {
          "output_type": "stream",
          "name": "stdout",
          "text": [
            "Before Relu: tensor([[0.0992, 0.3542, 0.0000, 0.3018, 0.0133, 0.1159, 0.0000, 0.0994, 0.0000,\n",
            "         0.1596, 0.4586, 0.0000, 0.2243, 0.0000, 0.0000, 0.0000, 0.7393, 0.1128,\n",
            "         0.3692, 0.0000],\n",
            "        [0.0000, 0.5351, 0.0000, 0.0000, 0.0000, 0.0000, 0.0000, 0.0000, 0.0000,\n",
            "         0.0000, 0.3556, 0.0000, 0.0082, 0.0000, 0.0000, 0.0471, 0.6054, 0.0000,\n",
            "         0.3512, 0.0000],\n",
            "        [0.1451, 0.3960, 0.0000, 0.0852, 0.0543, 0.2131, 0.0425, 0.0000, 0.0000,\n",
            "         0.0405, 0.1910, 0.0000, 0.0000, 0.0000, 0.0000, 0.0000, 0.1559, 0.0000,\n",
            "         0.2441, 0.1295]], grad_fn=<ReluBackward0>)\n",
            "\n",
            "\n",
            "After hidden2 : tensor([[0.0992, 0.3542, 0.0000, 0.3018, 0.0133, 0.1159, 0.0000, 0.0994, 0.0000,\n",
            "         0.1596, 0.4586, 0.0000, 0.2243, 0.0000, 0.0000, 0.0000, 0.7393, 0.1128,\n",
            "         0.3692, 0.0000],\n",
            "        [0.0000, 0.5351, 0.0000, 0.0000, 0.0000, 0.0000, 0.0000, 0.0000, 0.0000,\n",
            "         0.0000, 0.3556, 0.0000, 0.0082, 0.0000, 0.0000, 0.0471, 0.6054, 0.0000,\n",
            "         0.3512, 0.0000],\n",
            "        [0.1451, 0.3960, 0.0000, 0.0852, 0.0543, 0.2131, 0.0425, 0.0000, 0.0000,\n",
            "         0.0405, 0.1910, 0.0000, 0.0000, 0.0000, 0.0000, 0.0000, 0.1559, 0.0000,\n",
            "         0.2441, 0.1295]], grad_fn=<ReluBackward0>)\n"
          ]
        }
      ]
    },
    {
      "cell_type": "code",
      "execution_count": 51,
      "metadata": {
        "id": "aAsiL-fY9qhh",
        "outputId": "21b69c61-2ca0-47e6-c493-491c221107af",
        "colab": {
          "base_uri": "https://localhost:8080/"
        }
      },
      "outputs": [
        {
          "output_type": "stream",
          "name": "stdout",
          "text": [
            "Before ReLU: tensor([[ 0.1219,  0.0027,  0.6980,  0.0641, -0.0608,  0.5037,  0.1769, -0.2377,\n",
            "          0.3596, -0.4721, -0.5601, -0.1303,  0.4469,  0.0449,  0.1285, -0.6085,\n",
            "          0.0067, -0.3943,  0.7257,  0.4164],\n",
            "        [-0.0688, -0.2017,  0.4858,  0.0978, -0.1242, -0.1835, -0.0718, -0.4156,\n",
            "          0.5168, -0.0669, -0.5403, -0.0252,  0.1392, -0.3674, -0.0937, -0.4059,\n",
            "         -0.1781, -0.8695,  0.5547,  0.1174],\n",
            "        [-0.2015,  0.0319,  0.8484, -0.1292,  0.1024, -0.0471,  0.3901, -0.1666,\n",
            "          0.1620, -0.2393, -0.1767, -0.2881,  0.0476, -0.0687,  0.0408, -0.1686,\n",
            "         -0.6108, -0.5176,  0.6932,  0.2151]], grad_fn=<AddmmBackward0>)\n",
            "\n",
            "\n",
            "After ReLU: tensor([[0.1219, 0.0027, 0.6980, 0.0641, 0.0000, 0.5037, 0.1769, 0.0000, 0.3596,\n",
            "         0.0000, 0.0000, 0.0000, 0.4469, 0.0449, 0.1285, 0.0000, 0.0067, 0.0000,\n",
            "         0.7257, 0.4164],\n",
            "        [0.0000, 0.0000, 0.4858, 0.0978, 0.0000, 0.0000, 0.0000, 0.0000, 0.5168,\n",
            "         0.0000, 0.0000, 0.0000, 0.1392, 0.0000, 0.0000, 0.0000, 0.0000, 0.0000,\n",
            "         0.5547, 0.1174],\n",
            "        [0.0000, 0.0319, 0.8484, 0.0000, 0.1024, 0.0000, 0.3901, 0.0000, 0.1620,\n",
            "         0.0000, 0.0000, 0.0000, 0.0476, 0.0000, 0.0408, 0.0000, 0.0000, 0.0000,\n",
            "         0.6932, 0.2151]], grad_fn=<ReluBackward0>)\n"
          ]
        }
      ],
      "source": [
        "print(f\"Before ReLU: {hidden1}\\n\\n\")\n",
        "hidden1 = nn.ReLU()(hidden1)\n",
        "print(f\"After ReLU: {hidden1}\")"
      ]
    },
    {
      "cell_type": "markdown",
      "metadata": {
        "id": "R-5N-Y7s9qhi"
      },
      "source": [
        "nn.Sequential\n",
        "=============\n",
        "\n",
        "[nn.Sequential](https://pytorch.org/docs/stable/generated/torch.nn.Sequential.html)\n",
        "is an ordered container of modules. The data is passed through all the\n",
        "modules in the same order as defined. You can use sequential containers\n",
        "to put together a quick network like `seq_modules`.\n"
      ]
    },
    {
      "cell_type": "code",
      "source": [
        "seq_modules = nn.Sequential(\n",
        "    flatten,\n",
        "    layer1,\n",
        "    nn.ReLU(),\n",
        "    nn.Linear(20,10)\n",
        ")\n",
        "input_image = torch.rand(3,28,28)\n",
        "logits = seq_modules(input_image)"
      ],
      "metadata": {
        "id": "mBnkRnexfpqr"
      },
      "execution_count": 52,
      "outputs": []
    },
    {
      "cell_type": "markdown",
      "metadata": {
        "id": "2revo_It9qhi"
      },
      "source": [
        "nn.Softmax\n",
        "==========\n",
        "\n",
        "The last linear layer of the neural network returns [logits]{.title-ref}\n",
        "- raw values in \\[-infty, infty\\] - which are passed to the\n",
        "[nn.Softmax](https://pytorch.org/docs/stable/generated/torch.nn.Softmax.html)\n",
        "module. The logits are scaled to values \\[0, 1\\] representing the\n",
        "model\\'s predicted probabilities for each class. `dim` parameter\n",
        "indicates the dimension along which the values must sum to 1.\n"
      ]
    },
    {
      "cell_type": "code",
      "source": [
        "softmax = nn.Softmax(dim=1)\n",
        "pred_probab = softmax(logits)"
      ],
      "metadata": {
        "id": "9nLhLG-wf-1T"
      },
      "execution_count": 55,
      "outputs": []
    },
    {
      "cell_type": "markdown",
      "metadata": {
        "id": "oIOKZ3BH9qhi"
      },
      "source": [
        "Model Parameters\n",
        "================\n",
        "\n",
        "Many layers inside a neural network are *parameterized*, i.e. have\n",
        "associated weights and biases that are optimized during training.\n",
        "Subclassing `nn.Module` automatically tracks all fields defined inside\n",
        "your model object, and makes all parameters accessible using your\n",
        "model\\'s `parameters()` or `named_parameters()` methods.\n",
        "\n",
        "In this example, we iterate over each parameter, and print its size and\n",
        "a preview of its values.\n"
      ]
    },
    {
      "cell_type": "code",
      "source": [
        "print(f'model structure:{model}\\n\\n')\n",
        "for name, param in model.named_parameters():\n",
        "  print(f\"Layer : {name} | Size : {param.size()} | Values : {param[:2]} \\n\" )"
      ],
      "metadata": {
        "id": "ksa94JvRgOp3",
        "outputId": "d2ae34db-d80e-4dd9-81df-99950deca455",
        "colab": {
          "base_uri": "https://localhost:8080/"
        }
      },
      "execution_count": 58,
      "outputs": [
        {
          "output_type": "stream",
          "name": "stdout",
          "text": [
            "model structure:NeuralNetwork(\n",
            "  (flatten): Flatten(start_dim=1, end_dim=-1)\n",
            "  (linear_relu_stack): Sequential(\n",
            "    (0): Linear(in_features=784, out_features=512, bias=True)\n",
            "    (1): ReLU()\n",
            "    (2): Linear(in_features=512, out_features=512, bias=True)\n",
            "    (3): ReLU()\n",
            "    (4): Linear(in_features=512, out_features=10, bias=True)\n",
            "  )\n",
            ")\n",
            "\n",
            "\n",
            "Layer : linear_relu_stack.0.weight | Size : torch.Size([512, 784]) | Values : tensor([[ 0.0250, -0.0035, -0.0082,  ..., -0.0157,  0.0151, -0.0220],\n",
            "        [-0.0350, -0.0298,  0.0070,  ...,  0.0065,  0.0201,  0.0119]],\n",
            "       grad_fn=<SliceBackward0>) \n",
            "\n",
            "Layer : linear_relu_stack.0.bias | Size : torch.Size([512]) | Values : tensor([ 0.0080, -0.0237], grad_fn=<SliceBackward0>) \n",
            "\n",
            "Layer : linear_relu_stack.2.weight | Size : torch.Size([512, 512]) | Values : tensor([[-0.0165, -0.0111,  0.0337,  ...,  0.0002,  0.0169, -0.0095],\n",
            "        [ 0.0397,  0.0345,  0.0301,  ..., -0.0275, -0.0244, -0.0164]],\n",
            "       grad_fn=<SliceBackward0>) \n",
            "\n",
            "Layer : linear_relu_stack.2.bias | Size : torch.Size([512]) | Values : tensor([-0.0243,  0.0247], grad_fn=<SliceBackward0>) \n",
            "\n",
            "Layer : linear_relu_stack.4.weight | Size : torch.Size([10, 512]) | Values : tensor([[-0.0132, -0.0194,  0.0179,  ...,  0.0398,  0.0254,  0.0031],\n",
            "        [ 0.0347, -0.0180, -0.0353,  ...,  0.0371,  0.0440, -0.0232]],\n",
            "       grad_fn=<SliceBackward0>) \n",
            "\n",
            "Layer : linear_relu_stack.4.bias | Size : torch.Size([10]) | Values : tensor([0.0043, 0.0210], grad_fn=<SliceBackward0>) \n",
            "\n"
          ]
        }
      ]
    },
    {
      "cell_type": "markdown",
      "source": [
        "like check The parameter\n",
        "Weight, bias"
      ],
      "metadata": {
        "id": "5EQFIv1whSFz"
      }
    },
    {
      "cell_type": "markdown",
      "metadata": {
        "id": "9w7gxcv89qhi"
      },
      "source": [
        "------------------------------------------------------------------------\n"
      ]
    },
    {
      "cell_type": "markdown",
      "metadata": {
        "id": "TUGfzy2r9qhi"
      },
      "source": [
        "Further Reading\n",
        "===============\n",
        "\n",
        "-   [torch.nn API](https://pytorch.org/docs/stable/nn.html)\n"
      ]
    }
  ],
  "metadata": {
    "kernelspec": {
      "display_name": "Python 3",
      "language": "python",
      "name": "python3"
    },
    "language_info": {
      "codemirror_mode": {
        "name": "ipython",
        "version": 3
      },
      "file_extension": ".py",
      "mimetype": "text/x-python",
      "name": "python",
      "nbconvert_exporter": "python",
      "pygments_lexer": "ipython3",
      "version": "3.10.12"
    },
    "colab": {
      "provenance": [],
      "name": "05_buildmodel_tutorial.ipynb",
      "include_colab_link": true
    }
  },
  "nbformat": 4,
  "nbformat_minor": 0
}