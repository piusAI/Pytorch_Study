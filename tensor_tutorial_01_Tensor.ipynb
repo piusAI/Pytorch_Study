{
  "cells": [
    {
      "cell_type": "markdown",
      "metadata": {
        "id": "view-in-github",
        "colab_type": "text"
      },
      "source": [
        "<a href=\"https://colab.research.google.com/github/piusAI/Pytorch_Study/blob/main/tensor_tutorial_01_Tensor.ipynb\" target=\"_parent\"><img src=\"https://colab.research.google.com/assets/colab-badge.svg\" alt=\"Open In Colab\"/></a>"
      ]
    },
    {
      "cell_type": "code",
      "execution_count": null,
      "metadata": {
        "id": "wgMAcXR_yLb6"
      },
      "outputs": [],
      "source": [
        "%matplotlib inline"
      ]
    },
    {
      "cell_type": "markdown",
      "metadata": {
        "id": "rqZ03Gv4yLb8"
      },
      "source": [
        "|| **Tensors** ||\n",
        "\n",
        "\n",
        "Tensors\n",
        "==========================\n",
        "\n",
        "Tensors are a specialized data structure that are very similar to arrays and matrices.\n",
        "In PyTorch, we use tensors to encode the inputs and outputs of a model, as well as the model’s parameters.\n",
        "\n",
        "Tensors are similar to `NumPy’s <https://numpy.org/>`_ ndarrays, except that tensors can run on GPUs or other hardware accelerators. In fact, tensors and\n",
        "NumPy arrays can often share the same underlying memory, eliminating the need to copy data (see `bridge-to-np-label`). Tensors\n",
        "are also optimized for automatic differentiation (we'll see more about that later in the `Autograd <autograd_tutorial.html>`__\n",
        "section). If you’re familiar with ndarrays, you’ll be right at home with the Tensor API. If not, follow along!\n",
        "\n"
      ]
    },
    {
      "cell_type": "code",
      "source": [
        "import torch\n",
        "import numpy as np"
      ],
      "metadata": {
        "id": "GoedGKXNaqiG"
      },
      "execution_count": null,
      "outputs": []
    },
    {
      "cell_type": "markdown",
      "metadata": {
        "id": "lsBOjEO_yLb8"
      },
      "source": [
        "Initializing a Tensor\n",
        "~~~~~~~~~~~~~~~~~~~~~\n",
        "Tensors can be initialized in various ways. Take a look at the following examples:\n",
        "\n",
        "**Directly from data**\n",
        "\n",
        "Tensors can be created directly from data. The data type is automatically inferred.\n",
        "\n"
      ]
    },
    {
      "cell_type": "code",
      "source": [
        "data = [[1,2], [6,12]]\n",
        "x_data = torch.tensor(data)\n"
      ],
      "metadata": {
        "colab": {
          "base_uri": "https://localhost:8080/"
        },
        "id": "-3PybOEecnhK",
        "outputId": "f02b1803-6b27-4321-afa6-475540088379"
      },
      "execution_count": null,
      "outputs": [
        {
          "output_type": "stream",
          "name": "stdout",
          "text": [
            "tensor([[ 1,  2],\n",
            "        [ 6, 12]])\n"
          ]
        }
      ]
    },
    {
      "cell_type": "markdown",
      "metadata": {
        "id": "YUyW3YSIyLb9"
      },
      "source": [
        "**From a NumPy array**\n",
        "\n",
        "Tensors can be created from NumPy arrays (and vice versa - see `bridge-to-np-label`).\n",
        "\n"
      ]
    },
    {
      "cell_type": "code",
      "source": [
        "np_array = np.array(data)\n",
        "x_np= torch.from_numpy(np_array)\n",
        "print(x_np)"
      ],
      "metadata": {
        "colab": {
          "base_uri": "https://localhost:8080/"
        },
        "id": "gfCrqnN7c7ri",
        "outputId": "0d22d9ed-3b42-49de-8da1-deac997cb8f4"
      },
      "execution_count": null,
      "outputs": [
        {
          "output_type": "stream",
          "name": "stdout",
          "text": [
            "tensor([[ 1,  2],\n",
            "        [ 6, 12]])\n"
          ]
        }
      ]
    },
    {
      "cell_type": "markdown",
      "metadata": {
        "id": "sPxY9VxQyLb9"
      },
      "source": [
        "**From another tensor:**\n",
        "\n",
        "The new tensor retains the properties (shape, datatype) of the argument tensor, unless explicitly overridden.\n",
        "\n"
      ]
    },
    {
      "cell_type": "code",
      "source": [
        "x_t = torch.rand_like(x_data,dtype=torch.float)\n",
        "print(x_t)"
      ],
      "metadata": {
        "colab": {
          "base_uri": "https://localhost:8080/"
        },
        "id": "r35HAhGwihAt",
        "outputId": "4c3f5612-2cef-443a-efe9-9edca4869504"
      },
      "execution_count": null,
      "outputs": [
        {
          "output_type": "stream",
          "name": "stdout",
          "text": [
            "tensor([[0.3458, 0.4284],\n",
            "        [0.4279, 0.7951]])\n"
          ]
        }
      ]
    },
    {
      "cell_type": "code",
      "source": [
        "x_ones = torch.ones_like(x_data)\n",
        "\n",
        "print(f\"Ones Tensor : \\n {x_ones}\\n\")\n",
        "\n",
        "x_rand = torch.rand_like(x_data, dtype = torch.float)\n",
        "print(f'rand tensor : \\n{x_rand}')"
      ],
      "metadata": {
        "colab": {
          "base_uri": "https://localhost:8080/"
        },
        "id": "1rpoltEre9g8",
        "outputId": "6f78272d-62a6-491a-daca-dd19bc463512"
      },
      "execution_count": null,
      "outputs": [
        {
          "output_type": "stream",
          "name": "stdout",
          "text": [
            "Ones Tensor : \n",
            " tensor([[1, 1],\n",
            "        [1, 1]])\n",
            "\n",
            "rand tensor : \n",
            "tensor([[0.1714, 0.8850],\n",
            "        [0.8292, 0.0928]])\n"
          ]
        }
      ]
    },
    {
      "cell_type": "code",
      "execution_count": null,
      "metadata": {
        "colab": {
          "base_uri": "https://localhost:8080/"
        },
        "id": "Z4SzIotZyLb9",
        "outputId": "2991899d-9cff-4733-a280-fd55fb12b7a2"
      },
      "outputs": [
        {
          "output_type": "stream",
          "name": "stdout",
          "text": [
            "Ones Tensor: \n",
            " tensor([[1, 1],\n",
            "        [1, 1]]) \n",
            "\n",
            "Random Tensor: \n",
            " tensor([[0.2395, 0.7912],\n",
            "        [0.9624, 0.5567]]) \n",
            "\n"
          ]
        }
      ],
      "source": [
        "x_ones = torch.ones_like(x_data) # retains the properties of x_data\n",
        "print(f\"Ones Tensor: \\n {x_ones} \\n\")\n",
        "\n",
        "x_rand = torch.rand_like(x_data, dtype=torch.float) # overrides the datatype of x_data\n",
        "print(f\"Random Tensor: \\n {x_rand} \\n\")"
      ]
    },
    {
      "cell_type": "markdown",
      "metadata": {
        "id": "8hMGmAnvyLb9"
      },
      "source": [
        "**With random or constant values:**\n",
        "\n",
        "``shape`` is a tuple of tensor dimensions. In the functions below, it determines the dimensionality of the output tensor.\n",
        "\n"
      ]
    },
    {
      "cell_type": "code",
      "source": [
        "shape= (2,3,) #Same as shape =[2,3]\n",
        "rand_tensor = torch.rand(shape)\n",
        "one_tensor = torch.ones(shape)\n",
        "zeros_tensor = torch.zeros(shape)\n",
        "\n",
        "print(f'rand_tensor : \\n {rand_tensor}\\n')\n",
        "print(f'one_tensor : \\n {one_tensor}\\n')\n",
        "print(f'zeros_tensor : \\n {zeros_tensor}')"
      ],
      "metadata": {
        "colab": {
          "base_uri": "https://localhost:8080/"
        },
        "id": "unfOkKrhf0Xz",
        "outputId": "0b6ff7c1-324f-4b10-e107-d8f7076af519"
      },
      "execution_count": null,
      "outputs": [
        {
          "output_type": "stream",
          "name": "stdout",
          "text": [
            "rand_tensor : \n",
            " tensor([[0.5846, 0.3132, 0.8577],\n",
            "        [0.2184, 0.5686, 0.8161]])\n",
            "\n",
            "one_tensor : \n",
            " tensor([[1., 1., 1.],\n",
            "        [1., 1., 1.]])\n",
            "\n",
            "zeros_tensor : \n",
            " tensor([[0., 0., 0.],\n",
            "        [0., 0., 0.]])\n"
          ]
        }
      ]
    },
    {
      "cell_type": "markdown",
      "metadata": {
        "id": "Ku0Nz-BcyLb9"
      },
      "source": [
        "--------------\n",
        "\n",
        "\n"
      ]
    },
    {
      "cell_type": "markdown",
      "metadata": {
        "id": "9plmPhteyLb-"
      },
      "source": [
        "Attributes of a Tensor\n",
        "~~~~~~~~~~~~~~~~~\n",
        "Tensor attributes describe their shape, datatype, and the device on which they are stored.\n",
        "\n"
      ]
    },
    {
      "cell_type": "code",
      "source": [
        "tensor = torch.rand(3,4)\n",
        "\n",
        "print(f\"shape of tensor : {tensor.shape}\")\n",
        "print(f\"Datatype of tensor : {tensor.dtype}\")\n",
        "print(f\"Device tensor is stored on {tensor.device}\")"
      ],
      "metadata": {
        "colab": {
          "base_uri": "https://localhost:8080/"
        },
        "id": "ZOp9JZBqiSLq",
        "outputId": "141c111e-0a01-4183-94d4-76087f744889"
      },
      "execution_count": null,
      "outputs": [
        {
          "output_type": "stream",
          "name": "stdout",
          "text": [
            "shape of tensor : torch.Size([3, 4])\n",
            "Datatype of tensor : torch.float32\n",
            "Device tensor is stored on cpu\n"
          ]
        }
      ]
    },
    {
      "cell_type": "code",
      "execution_count": null,
      "metadata": {
        "id": "pS0kVEKlyLb-"
      },
      "outputs": [],
      "source": [
        "tensor = torch.rand(3,4)\n",
        "\n",
        "print(f\"Shape of tensor: {tensor.shape}\")\n",
        "print(f\"Datatype of tensor: {tensor.dtype}\")\n",
        "print(f\"Device tensor is stored on: {tensor.device}\")"
      ]
    },
    {
      "cell_type": "markdown",
      "metadata": {
        "id": "5fkpNEjTyLb-"
      },
      "source": [
        "--------------\n",
        "\n",
        "\n"
      ]
    },
    {
      "cell_type": "markdown",
      "metadata": {
        "id": "Qs3truHgyLb-"
      },
      "source": [
        "Operations on Tensors\n",
        "~~~~~~~~~~~~~~~~~\n",
        "Over 1200 tensor operations, including arithmetic, linear algebra, matrix manipulation (transposing,\n",
        "indexing, slicing), sampling and more are\n",
        "comprehensively described `here <https://pytorch.org/docs/stable/torch.html>`__.\n",
        "\n",
        "Each of these operations can be run on the GPU (at typically higher speeds than on a\n",
        "CPU). If you’re using Colab, allocate a GPU by going to Runtime > Change runtime type > GPU.\n",
        "\n",
        "By default, tensors are created on the CPU. We need to explicitly move tensors to the GPU using\n",
        "``.to`` method (after checking for GPU availability). Keep in mind that copying large tensors\n",
        "across devices can be expensive in terms of time and memory!\n",
        "\n"
      ]
    },
    {
      "cell_type": "code",
      "execution_count": null,
      "metadata": {
        "id": "5cXqCHg3yLb-"
      },
      "outputs": [],
      "source": [
        "# We move our tensor to the GPU if available\n",
        "if torch.cuda.is_available():\n",
        "  tensor = tensor.to('cuda')"
      ]
    },
    {
      "cell_type": "markdown",
      "metadata": {
        "id": "Z8LNxA3TyLb-"
      },
      "source": [
        "Try out some of the operations from the list.\n",
        "If you're familiar with the NumPy API, you'll find the Tensor API a breeze to use.\n",
        "\n",
        "\n"
      ]
    },
    {
      "cell_type": "markdown",
      "metadata": {
        "id": "-Be0Hj5UyLb-"
      },
      "source": [
        "**Standard numpy-like indexing and slicing:**\n",
        "\n"
      ]
    },
    {
      "cell_type": "code",
      "source": [
        "tt = np.random.randn(4,4)\n",
        "tt2 = np.round(tt, 2)\n",
        "tot = torch.from_numpy(tt2)\n",
        "print(tot,\"\\n\")\n",
        "\n",
        "tensor = torch.rand(4,4,dtype=float)\n",
        "\n",
        "tensor_one = torch.ones(4,4,dtype=float)\n",
        "print(f'tensor_one: \\n {tensor_one}\\n')\n",
        "\n",
        "\n",
        "print(f'First row : {tensor[0]}')\n",
        "print(f'First Columns :{tensor[:,0]}')\n",
        "print(f'Last columns : {tensor[...,-1]}')\n",
        "tensor[:,1]=0\n",
        "print(tensor,'\\n')\n",
        "\n",
        "print(f'it is test : {tot[:,2]}')\n",
        "# print(f'Last columns : {tensor[:,-1]}')"
      ],
      "metadata": {
        "colab": {
          "base_uri": "https://localhost:8080/"
        },
        "id": "ciF_IYwvsY1o",
        "outputId": "9be65c5e-370f-4c34-ca87-e8b3e0bc838d"
      },
      "execution_count": null,
      "outputs": [
        {
          "output_type": "stream",
          "name": "stdout",
          "text": [
            "tensor([[-0.9600,  1.2200, -0.1400, -1.6100],\n",
            "        [ 0.9200,  0.3100,  0.1900, -0.4100],\n",
            "        [ 0.4900, -0.7400, -1.0400, -0.4100],\n",
            "        [-1.0800, -0.2000, -0.0200, -0.1400]], dtype=torch.float64) \n",
            "\n",
            "tensor_one: \n",
            " tensor([[1., 1., 1., 1.],\n",
            "        [1., 1., 1., 1.],\n",
            "        [1., 1., 1., 1.],\n",
            "        [1., 1., 1., 1.]], dtype=torch.float64)\n",
            "\n",
            "First row : tensor([0.7721, 0.3717, 0.8392, 0.2734], dtype=torch.float64)\n",
            "First Columns :tensor([0.7721, 0.3509, 0.6450, 0.9282], dtype=torch.float64)\n",
            "Last columns : tensor([0.2734, 0.5079, 0.0491, 0.1870], dtype=torch.float64)\n",
            "tensor([[0.7721, 0.0000, 0.8392, 0.2734],\n",
            "        [0.3509, 0.0000, 0.8415, 0.5079],\n",
            "        [0.6450, 0.0000, 0.7396, 0.0491],\n",
            "        [0.9282, 0.0000, 0.4876, 0.1870]], dtype=torch.float64) \n",
            "\n",
            "it is test : tensor([-0.1400,  0.1900, -1.0400, -0.0200], dtype=torch.float64)\n"
          ]
        }
      ]
    },
    {
      "cell_type": "markdown",
      "metadata": {
        "id": "_G94DFTsyLb-"
      },
      "source": [
        "**Joining tensors** You can use ``torch.cat`` to concatenate a sequence of tensors along a given dimension.\n",
        "See also `torch.stack <https://pytorch.org/docs/stable/generated/torch.stack.html>`__,\n",
        "another tensor joining op that is subtly different from ``torch.cat``.\n",
        "\n"
      ]
    },
    {
      "cell_type": "code",
      "source": [
        "tt1= torch.cat([tensor, tot,tensor, tensor_one],axis=0)\n",
        "print(f'tt1: \\n {tt1}')\n",
        "tt2= torch.cat([tensor,tot, tensor, tensor_one],dim=1)\n",
        "print(f'tt2 : \\n {tt2}')"
      ],
      "metadata": {
        "colab": {
          "base_uri": "https://localhost:8080/"
        },
        "id": "UyfbfIZYt55g",
        "outputId": "28c31df4-92fd-4f3d-86f7-daff34cf34d7"
      },
      "execution_count": null,
      "outputs": [
        {
          "output_type": "stream",
          "name": "stdout",
          "text": [
            "tt1: \n",
            " tensor([[ 0.7721,  0.0000,  0.8392,  0.2734],\n",
            "        [ 0.3509,  0.0000,  0.8415,  0.5079],\n",
            "        [ 0.6450,  0.0000,  0.7396,  0.0491],\n",
            "        [ 0.9282,  0.0000,  0.4876,  0.1870],\n",
            "        [-0.9600,  1.2200, -0.1400, -1.6100],\n",
            "        [ 0.9200,  0.3100,  0.1900, -0.4100],\n",
            "        [ 0.4900, -0.7400, -1.0400, -0.4100],\n",
            "        [-1.0800, -0.2000, -0.0200, -0.1400],\n",
            "        [ 0.7721,  0.0000,  0.8392,  0.2734],\n",
            "        [ 0.3509,  0.0000,  0.8415,  0.5079],\n",
            "        [ 0.6450,  0.0000,  0.7396,  0.0491],\n",
            "        [ 0.9282,  0.0000,  0.4876,  0.1870],\n",
            "        [ 1.0000,  1.0000,  1.0000,  1.0000],\n",
            "        [ 1.0000,  1.0000,  1.0000,  1.0000],\n",
            "        [ 1.0000,  1.0000,  1.0000,  1.0000],\n",
            "        [ 1.0000,  1.0000,  1.0000,  1.0000]], dtype=torch.float64)\n",
            "tt2 : \n",
            " tensor([[ 0.7721,  0.0000,  0.8392,  0.2734, -0.9600,  1.2200, -0.1400, -1.6100,\n",
            "          0.7721,  0.0000,  0.8392,  0.2734,  1.0000,  1.0000,  1.0000,  1.0000],\n",
            "        [ 0.3509,  0.0000,  0.8415,  0.5079,  0.9200,  0.3100,  0.1900, -0.4100,\n",
            "          0.3509,  0.0000,  0.8415,  0.5079,  1.0000,  1.0000,  1.0000,  1.0000],\n",
            "        [ 0.6450,  0.0000,  0.7396,  0.0491,  0.4900, -0.7400, -1.0400, -0.4100,\n",
            "          0.6450,  0.0000,  0.7396,  0.0491,  1.0000,  1.0000,  1.0000,  1.0000],\n",
            "        [ 0.9282,  0.0000,  0.4876,  0.1870, -1.0800, -0.2000, -0.0200, -0.1400,\n",
            "          0.9282,  0.0000,  0.4876,  0.1870,  1.0000,  1.0000,  1.0000,  1.0000]],\n",
            "       dtype=torch.float64)\n"
          ]
        }
      ]
    },
    {
      "cell_type": "code",
      "execution_count": null,
      "metadata": {
        "id": "t8m0Pvf-yLb-"
      },
      "outputs": [],
      "source": [
        "t1 = torch.cat([tensor, tensor, tensor], dim=1)\n",
        "print(t1)"
      ]
    },
    {
      "cell_type": "markdown",
      "metadata": {
        "id": "esGGyE7fyLb-"
      },
      "source": [
        "**Arithmetic operations**\n",
        "\n"
      ]
    },
    {
      "cell_type": "code",
      "source": [
        "y1 = tot @ tensor.T\n",
        "y2 = tot.matmul(tensor.T)\n",
        "# print(y2==y1)\n",
        "\n",
        "y3= torch.ones_like(y2)\n",
        "y5 = torch.rand_like(y3)\n",
        "y4= torch.matmul(tot, tensor.T, out=y5)\n",
        "\n",
        "print(y1 == y2)\n",
        "# print(y2 == y4)\n",
        "print(y1)\n",
        "print(y5)\n",
        "\n",
        "\n",
        "\n",
        "z1 = tot * tot\n",
        "z2 = tot.mul(tot)\n",
        "\n",
        "z3= torch.rand_like(tot)\n",
        "torch.mul(tot,tot, out=z3)\n",
        "\n",
        "print(z1)\n",
        "print(z3)"
      ],
      "metadata": {
        "colab": {
          "base_uri": "https://localhost:8080/"
        },
        "id": "PRUu6nx0vTSH",
        "outputId": "cac0fce8-39c8-46e1-aa89-ab19e38a9c9c"
      },
      "execution_count": null,
      "outputs": [
        {
          "output_type": "stream",
          "name": "stdout",
          "text": [
            "tensor([[True, True, True, True],\n",
            "        [True, True, True, True],\n",
            "        [True, True, True, True],\n",
            "        [True, True, True, True]])\n",
            "tensor([[-1.2988, -1.2724, -0.8019, -1.2604],\n",
            "        [ 0.7577,  0.2744,  0.7138,  0.8699],\n",
            "        [-0.6065, -0.9115, -0.4733, -0.1290],\n",
            "        [-0.8890, -0.4669, -0.7183, -1.0384]], dtype=torch.float64)\n",
            "tensor([[-1.2988, -1.2724, -0.8019, -1.2604],\n",
            "        [ 0.7577,  0.2744,  0.7138,  0.8699],\n",
            "        [-0.6065, -0.9115, -0.4733, -0.1290],\n",
            "        [-0.8890, -0.4669, -0.7183, -1.0384]], dtype=torch.float64)\n",
            "tensor([[9.2160e-01, 1.4884e+00, 1.9600e-02, 2.5921e+00],\n",
            "        [8.4640e-01, 9.6100e-02, 3.6100e-02, 1.6810e-01],\n",
            "        [2.4010e-01, 5.4760e-01, 1.0816e+00, 1.6810e-01],\n",
            "        [1.1664e+00, 4.0000e-02, 4.0000e-04, 1.9600e-02]], dtype=torch.float64)\n",
            "tensor([[9.2160e-01, 1.4884e+00, 1.9600e-02, 2.5921e+00],\n",
            "        [8.4640e-01, 9.6100e-02, 3.6100e-02, 1.6810e-01],\n",
            "        [2.4010e-01, 5.4760e-01, 1.0816e+00, 1.6810e-01],\n",
            "        [1.1664e+00, 4.0000e-02, 4.0000e-04, 1.9600e-02]], dtype=torch.float64)\n"
          ]
        }
      ]
    },
    {
      "cell_type": "code",
      "source": [],
      "metadata": {
        "id": "fnqm9hXuvUoO"
      },
      "execution_count": null,
      "outputs": []
    },
    {
      "cell_type": "code",
      "execution_count": null,
      "metadata": {
        "id": "Iv5FDoZLyLb-"
      },
      "outputs": [],
      "source": [
        "# This computes the matrix multiplication between two tensors. y1, y2, y3 will have the same value\n",
        "y1 = tensor @ tensor.T\n",
        "y2 = tensor.matmul(tensor.T)\n",
        "\n",
        "y3 = torch.rand_like(tensor)\n",
        "torch.matmul(tensor, tensor.T, out=y3)\n",
        "\n",
        "\n",
        "# This computes the element-wise product. z1, z2, z3 will have the same value\n",
        "z1 = tensor * tensor\n",
        "z2 = tensor.mul(tensor)\n",
        "\n",
        "z3 = torch.rand_like(tensor)\n",
        "torch.mul(tensor, tensor, out=z3)"
      ]
    },
    {
      "cell_type": "markdown",
      "metadata": {
        "id": "a8IzXoePyLb-"
      },
      "source": [
        "**Single-element tensors** If you have a one-element tensor, for example by aggregating all\n",
        "values of a tensor into one value, you can convert it to a Python\n",
        "numerical value using ``item()``:\n",
        "\n"
      ]
    },
    {
      "cell_type": "code",
      "source": [
        "agg=tot.sum()\n",
        "agg_item=agg.item()\n",
        "print(agg_item, type(agg_item))\n",
        "print(agg)"
      ],
      "metadata": {
        "colab": {
          "base_uri": "https://localhost:8080/"
        },
        "id": "QVHKdzL41Fkr",
        "outputId": "739f16d9-39ff-44e3-972e-7ed6242703ff"
      },
      "execution_count": null,
      "outputs": [
        {
          "output_type": "stream",
          "name": "stdout",
          "text": [
            "-3.62 <class 'float'>\n",
            "tensor(-3.6200, dtype=torch.float64)\n"
          ]
        }
      ]
    },
    {
      "cell_type": "code",
      "execution_count": null,
      "metadata": {
        "id": "y_ON-CYayLb-"
      },
      "outputs": [],
      "source": [
        "agg = tensor.sum()\n",
        "agg_item = agg.item()\n",
        "print(agg_item, type(agg_item))"
      ]
    },
    {
      "cell_type": "markdown",
      "metadata": {
        "id": "CsZr5lTnyLb-"
      },
      "source": [
        "**In-place operations**\n",
        "Operations that store the result into the operand are called in-place. They are denoted by a ``_`` suffix.\n",
        "For example: ``x.copy_(y)``, ``x.t_()``, will change ``x``.\n",
        "\n"
      ]
    },
    {
      "cell_type": "code",
      "source": [
        "print(tot,\"\\n\")\n",
        "tot.add_(5)\n",
        "print(tot)"
      ],
      "metadata": {
        "colab": {
          "base_uri": "https://localhost:8080/"
        },
        "id": "SkkGvfGi26Wt",
        "outputId": "daf5fca1-32c5-40fe-b97e-19b3fac9f6e8"
      },
      "execution_count": null,
      "outputs": [
        {
          "output_type": "stream",
          "name": "stdout",
          "text": [
            "tensor([[-0.9600,  1.2200, -0.1400, -1.6100],\n",
            "        [ 0.9200,  0.3100,  0.1900, -0.4100],\n",
            "        [ 0.4900, -0.7400, -1.0400, -0.4100],\n",
            "        [-1.0800, -0.2000, -0.0200, -0.1400]], dtype=torch.float64) \n",
            "\n",
            "tensor([[4.0400, 6.2200, 4.8600, 3.3900],\n",
            "        [5.9200, 5.3100, 5.1900, 4.5900],\n",
            "        [5.4900, 4.2600, 3.9600, 4.5900],\n",
            "        [3.9200, 4.8000, 4.9800, 4.8600]], dtype=torch.float64)\n"
          ]
        }
      ]
    },
    {
      "cell_type": "code",
      "execution_count": null,
      "metadata": {
        "id": "3Cub4DWQyLb-"
      },
      "outputs": [],
      "source": [
        "print(tensor, \"\\n\")\n",
        "tensor.add_(5)\n",
        "print(tensor)"
      ]
    },
    {
      "cell_type": "markdown",
      "metadata": {
        "id": "-2XTG9MeyLb-"
      },
      "source": [
        "<div class=\"alert alert-info\"><h4>Note</h4><p>In-place operations save some memory, but can be problematic when computing derivatives because of an immediate loss\n",
        "     of history. Hence, their use is discouraged.</p></div>\n",
        "\n"
      ]
    },
    {
      "cell_type": "markdown",
      "metadata": {
        "id": "4jvSTxSWyLb-"
      },
      "source": [
        "--------------\n",
        "\n",
        "\n"
      ]
    },
    {
      "cell_type": "markdown",
      "metadata": {
        "id": "2J28u_xbyLb-"
      },
      "source": [
        "\n",
        "Bridge with NumPy\n",
        "~~~~~~~~~~~~~~~~~\n",
        "Tensors on the CPU and NumPy arrays can share their underlying memory\n",
        "locations, and changing one will change\tthe other.\n",
        "\n"
      ]
    },
    {
      "cell_type": "markdown",
      "metadata": {
        "id": "lGkRS1KZyLb-"
      },
      "source": [
        "Tensor to NumPy array\n",
        "\n",
        "\n"
      ]
    },
    {
      "cell_type": "code",
      "source": [
        "t=torch.ones(7)\n",
        "print(f\"t: {t}\")\n",
        "\n",
        "n=t.numpy()\n",
        "print(f\"n:{n}\")"
      ],
      "metadata": {
        "colab": {
          "base_uri": "https://localhost:8080/"
        },
        "id": "VcradE0I4O-0",
        "outputId": "84af3412-2c2c-40ca-a046-72c71311b944"
      },
      "execution_count": null,
      "outputs": [
        {
          "output_type": "stream",
          "name": "stdout",
          "text": [
            "t: tensor([1., 1., 1., 1., 1., 1., 1.])\n",
            "n:[1. 1. 1. 1. 1. 1. 1.]\n"
          ]
        }
      ]
    },
    {
      "cell_type": "code",
      "source": [
        "t.add_(4)\n",
        "\n",
        "print(t)\n",
        "print(n)"
      ],
      "metadata": {
        "colab": {
          "base_uri": "https://localhost:8080/"
        },
        "id": "urjSH3Jb4Xdn",
        "outputId": "9eb49e92-6327-43a0-f6a1-453dbfb72275"
      },
      "execution_count": null,
      "outputs": [
        {
          "output_type": "stream",
          "name": "stdout",
          "text": [
            "tensor([9., 9., 9., 9., 9., 9., 9.])\n",
            "[9. 9. 9. 9. 9. 9. 9.]\n"
          ]
        }
      ]
    },
    {
      "cell_type": "code",
      "execution_count": null,
      "metadata": {
        "id": "l9OQqqU3yLb-"
      },
      "outputs": [],
      "source": [
        "t = torch.ones(5)\n",
        "print(f\"t: {t}\")\n",
        "n = t.numpy()\n",
        "print(f\"n: {n}\")"
      ]
    },
    {
      "cell_type": "markdown",
      "metadata": {
        "id": "vOLwY6lNyLb-"
      },
      "source": [
        "A change in the tensor reflects in the NumPy array.\n",
        "\n"
      ]
    },
    {
      "cell_type": "code",
      "execution_count": null,
      "metadata": {
        "id": "4tqRq5gNyLb-"
      },
      "outputs": [],
      "source": [
        "t.add_(1)\n",
        "print(f\"t: {t}\")\n",
        "print(f\"n: {n}\")"
      ]
    },
    {
      "cell_type": "markdown",
      "metadata": {
        "id": "htxxeg67yLb_"
      },
      "source": [
        "NumPy array to Tensor\n",
        "^^^^^^^^^^^^^^^^^^^^^^^^^^^^^^^^^^^^^^\n",
        "\n"
      ]
    },
    {
      "cell_type": "code",
      "source": [
        "yoyo=np.ones(5)\n",
        "whywhy=torch.from_numpy(yoyo)"
      ],
      "metadata": {
        "id": "lZ-aMYek4i4p"
      },
      "execution_count": null,
      "outputs": []
    },
    {
      "cell_type": "code",
      "source": [
        "np.add(yoyo,5,out = yoyo)\n",
        "print(f'yoyo:{yoyo}')\n",
        "print(f'whywhy:{whywhy}')"
      ],
      "metadata": {
        "colab": {
          "base_uri": "https://localhost:8080/"
        },
        "id": "qEk87_644p7l",
        "outputId": "0d80b90c-ed05-47d2-b1e9-40817b971e94"
      },
      "execution_count": null,
      "outputs": [
        {
          "output_type": "stream",
          "name": "stdout",
          "text": [
            "yoyo:[11. 11. 11. 11. 11.]\n",
            "whywhy:tensor([11., 11., 11., 11., 11.], dtype=torch.float64)\n"
          ]
        }
      ]
    },
    {
      "cell_type": "code",
      "execution_count": null,
      "metadata": {
        "id": "1cZ35gW8yLb_"
      },
      "outputs": [],
      "source": [
        "n = np.ones(5)\n",
        "t = torch.from_numpy(n)"
      ]
    },
    {
      "cell_type": "markdown",
      "metadata": {
        "id": "nbXpquklyLb_"
      },
      "source": [
        "Changes in the NumPy array reflects in the tensor.\n",
        "\n"
      ]
    },
    {
      "cell_type": "code",
      "execution_count": null,
      "metadata": {
        "id": "VkPvINOhyLb_"
      },
      "outputs": [],
      "source": [
        "np.add(n, 1, out=n)\n",
        "print(f\"t: {t}\")\n",
        "print(f\"n: {n}\")"
      ]
    }
  ],
  "metadata": {
    "kernelspec": {
      "display_name": "Python 3",
      "language": "python",
      "name": "python3"
    },
    "language_info": {
      "codemirror_mode": {
        "name": "ipython",
        "version": 3
      },
      "file_extension": ".py",
      "mimetype": "text/x-python",
      "name": "python",
      "nbconvert_exporter": "python",
      "pygments_lexer": "ipython3",
      "version": "3.6.8"
    },
    "colab": {
      "provenance": [],
      "name": "tensor_tutorial_01_Tensor.ipynb",
      "include_colab_link": true
    }
  },
  "nbformat": 4,
  "nbformat_minor": 0
}