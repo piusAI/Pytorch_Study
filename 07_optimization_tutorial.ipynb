{
  "cells": [
    {
      "cell_type": "markdown",
      "metadata": {
        "id": "view-in-github",
        "colab_type": "text"
      },
      "source": [
        "<a href=\"https://colab.research.google.com/github/piusAI/Pytorch_Study/blob/main/07_optimization_tutorial.ipynb\" target=\"_parent\"><img src=\"https://colab.research.google.com/assets/colab-badge.svg\" alt=\"Open In Colab\"/></a>"
      ]
    },
    {
      "cell_type": "code",
      "execution_count": null,
      "metadata": {
        "id": "kmk2QqfFGQ8M"
      },
      "outputs": [],
      "source": [
        "# For tips on running notebooks in Google Colab, see\n",
        "# https://pytorch.org/tutorials/beginner/colab\n",
        "%matplotlib inline"
      ]
    },
    {
      "cell_type": "markdown",
      "metadata": {
        "id": "hSp6FqDGGQ8N"
      },
      "source": [
        "[Learn the Basics](intro.html) \\|\\|\n",
        "[Quickstart](quickstart_tutorial.html) \\|\\|\n",
        "[Tensors](tensorqs_tutorial.html) \\|\\| [Datasets &\n",
        "DataLoaders](data_tutorial.html) \\|\\|\n",
        "[Transforms](transforms_tutorial.html) \\|\\| [Build\n",
        "Model](buildmodel_tutorial.html) \\|\\|\n",
        "[Autograd](autogradqs_tutorial.html) \\|\\| **Optimization** \\|\\| [Save &\n",
        "Load Model](saveloadrun_tutorial.html)\n",
        "\n",
        "Optimizing Model Parameters\n",
        "===========================\n",
        "\n",
        "Now that we have a model and data it\\'s time to train, validate and test\n",
        "our model by optimizing its parameters on our data. Training a model is\n",
        "an iterative process; in each iteration the model makes a guess about\n",
        "the output, calculates the error in its guess (*loss*), collects the\n",
        "derivatives of the error with respect to its parameters (as we saw in\n",
        "the [previous section](autograd_tutorial.html)), and **optimizes** these\n",
        "parameters using gradient descent. For a more detailed walkthrough of\n",
        "this process, check out this video on [backpropagation from\n",
        "3Blue1Brown](https://www.youtube.com/watch?v=tIeHLnjs5U8).\n",
        "\n",
        "Prerequisite Code\n",
        "-----------------\n",
        "\n",
        "We load the code from the previous sections on [Datasets &\n",
        "DataLoaders](data_tutorial.html) and [Build\n",
        "Model](buildmodel_tutorial.html).\n"
      ]
    },
    {
      "cell_type": "code",
      "source": [
        "import torch\n",
        "\n",
        "from torch import nn\n",
        "from torch.utils.data import DataLoader\n",
        "from torchvision import datasets\n",
        "from torchvision.transforms import ToTensor\n",
        "\n",
        "training_data=datasets.FashionMNIST(\n",
        "    root='data',\n",
        "    train=True,\n",
        "    download=True,\n",
        "    transform=ToTensor()\n",
        ")\n",
        "\n",
        "test_data = datasets.FashionMNIST(\n",
        "    root='data',\n",
        "    train=False,\n",
        "    download=True,\n",
        "    transform=ToTensor() # make the PIL img to Tensor!\n",
        "\n",
        ")\n",
        "\n",
        "train_dataloader = DataLoader(training_data, batch_size = 64)\n",
        "test_dataloader = DataLoader(test_data, batch_size=64)\n",
        "\n",
        "class NeuralNetwork(nn.Module):\n",
        "  def __init__(self):\n",
        "    super().__init__()\n",
        "    self.flatten=nn.Flatten()\n",
        "    self.linear_relu_stack = nn.Sequential(\n",
        "        nn.Linear(28*28, 512),\n",
        "        nn.ReLU(),\n",
        "        nn.Linear(512, 512),\n",
        "        nn.ReLU(),\n",
        "        nn.Linear(512, 10),\n",
        "    )\n",
        "  def forward(self, x):\n",
        "    x = self.flatten(x)\n",
        "    logits = self.linear_relu_stack(x)\n",
        "    return logits\n",
        "\n",
        "model = NeuralNetwork()"
      ],
      "metadata": {
        "id": "7chvZjq8Hjac"
      },
      "execution_count": null,
      "outputs": []
    },
    {
      "cell_type": "markdown",
      "metadata": {
        "id": "LCGmzTc8GQ8O"
      },
      "source": [
        "Hyperparameters\n",
        "===============\n",
        "\n",
        "Hyperparameters are adjustable parameters that let you control the model\n",
        "optimization process. Different hyperparameter values can impact model\n",
        "training and convergence rates ([read\n",
        "more](https://pytorch.org/tutorials/beginner/hyperparameter_tuning_tutorial.html)\n",
        "about hyperparameter tuning)\n",
        "\n",
        "We define the following hyperparameters for training:\n",
        "\n",
        "\n",
        ":\n",
        " -   **Number of Epochs**\n",
        ": the number of times to iterate over the dataset\n",
        "\n",
        " -   **Batch Size** : the number of data samples propagated through\n",
        "        the network before the parameters are updated\n",
        " -   **Learning Rate** : how much to update models parameters at each\n",
        "        batch/epoch. Smaller values yield slow learning speed, while\n",
        "        large values may result in unpredictable behavior during\n",
        "        training.\n"
      ]
    },
    {
      "cell_type": "code",
      "source": [
        "learning_rate = 1e-3\n",
        "batch_size =64\n",
        "ephocs = 5"
      ],
      "metadata": {
        "id": "Npgbyjn8MZhz"
      },
      "execution_count": null,
      "outputs": []
    },
    {
      "cell_type": "markdown",
      "metadata": {
        "id": "s4gU_0eBGQ8P"
      },
      "source": [
        "Optimization Loop\n",
        "=================\n",
        "\n",
        "Once we set our hyperparameters, we can then train and optimize our\n",
        "model with an optimization loop. Each iteration of the optimization loop\n",
        "is called an **epoch**.\n",
        "\n",
        "Each epoch consists of two main parts:\n",
        "\n",
        ":   -   **The Train Loop** - iterate over the training dataset and try\n",
        "        to converge to optimal parameters.\n",
        "    -   **The Validation/Test Loop** - iterate over the test dataset to\n",
        "        check if model performance is improving.\n",
        "\n",
        "Let\\'s briefly familiarize ourselves with some of the concepts used in\n",
        "the training loop. Jump ahead to see the\n",
        "`full-impl-label`{.interpreted-text role=\"ref\"} of the optimization\n",
        "loop.\n",
        "\n",
        "Loss Function\n",
        "-------------\n",
        "\n",
        "When presented with some training data, our untrained network is likely\n",
        "not to give the correct answer. **Loss function** measures the degree of\n",
        "dissimilarity of obtained result to the target value, and it is the loss\n",
        "function that we want to minimize during training. To calculate the loss\n",
        "we make a prediction using the inputs of our given data sample and\n",
        "compare it against the true data label value.\n",
        "\n",
        "Common loss functions include\n",
        "[nn.MSELoss](https://pytorch.org/docs/stable/generated/torch.nn.MSELoss.html#torch.nn.MSELoss)\n",
        "(Mean Square Error) for regression tasks, and\n",
        "[nn.NLLLoss](https://pytorch.org/docs/stable/generated/torch.nn.NLLLoss.html#torch.nn.NLLLoss)\n",
        "(Negative Log Likelihood) for classification.\n",
        "[nn.CrossEntropyLoss](https://pytorch.org/docs/stable/generated/torch.nn.CrossEntropyLoss.html#torch.nn.CrossEntropyLoss)\n",
        "combines `nn.LogSoftmax` and `nn.NLLLoss`.\n",
        "\n",
        "We pass our model\\'s output logits to `nn.CrossEntropyLoss`, which will\n",
        "normalize the logits and compute the prediction error.\n"
      ]
    },
    {
      "cell_type": "code",
      "execution_count": null,
      "metadata": {
        "id": "iot9uSmgGQ8P"
      },
      "outputs": [],
      "source": [
        "# Initialize the loss function\n",
        "loss_fn = nn.CrossEntropyLoss()"
      ]
    },
    {
      "cell_type": "markdown",
      "metadata": {
        "id": "qNE93HB1GQ8P"
      },
      "source": [
        "Optimizer\n",
        "=========\n",
        "\n",
        "Optimization is the process of adjusting model parameters to reduce\n",
        "model error in each training step. **Optimization algorithms** define\n",
        "how this process is performed (in this example we use Stochastic\n",
        "Gradient Descent). All optimization logic is encapsulated in the\n",
        "`optimizer` object. Here, we use the SGD optimizer; additionally, there\n",
        "are many [different\n",
        "optimizers](https://pytorch.org/docs/stable/optim.html) available in\n",
        "PyTorch such as ADAM and RMSProp, that work better for different kinds\n",
        "of models and data.\n",
        "\n",
        "We initialize the optimizer by registering the model\\'s parameters that\n",
        "need to be trained, and passing in the learning rate hyperparameter.\n"
      ]
    },
    {
      "cell_type": "code",
      "source": [
        "optimizer = torch.optim.SGD(model.parameters(), lr = learning_rate)"
      ],
      "metadata": {
        "id": "T5L4_pH_P2tX"
      },
      "execution_count": null,
      "outputs": []
    },
    {
      "cell_type": "markdown",
      "metadata": {
        "id": "k0b073zmGQ8P"
      },
      "source": [
        "Inside the training loop, optimization happens in three steps:\n",
        "\n",
        ":   -   Call `optimizer.zero_grad()` to reset the gradients of model\n",
        "        parameters. Gradients by default add up; to prevent\n",
        "        double-counting, we explicitly zero them at each iteration.\n",
        "    -   Backpropagate the prediction loss with a call to\n",
        "        `loss.backward()`. PyTorch deposits the gradients of the loss\n",
        "        w.r.t. each parameter.\n",
        "    -   Once we have our gradients, we call `optimizer.step()` to adjust\n",
        "        the parameters by the gradients collected in the backward pass.\n"
      ]
    },
    {
      "cell_type": "markdown",
      "metadata": {
        "id": "UCmJLJycGQ8P"
      },
      "source": [
        "Full Implementation {#full-impl-label}\n",
        "===================\n",
        "\n",
        "We define `train_loop` that loops over our optimization code, and\n",
        "`test_loop` that evaluates the model\\'s performance against our test\n",
        "data.\n"
      ]
    },
    {
      "cell_type": "code",
      "source": [
        "def train_loop(dataloader, model, loss_fn, optimizer):\n",
        "  size = len(dataloader.dataset)\n",
        "\n",
        "  model.train()\n",
        "  for batch, (X,y) in enumerate(dataloader):\n",
        "    pred = model(X)\n",
        "    loss = loss_fn(pred,y)\n",
        "\n",
        "    loss.backward()\n",
        "    optimizer.step()\n",
        "    optimizer.zero_grad()\n",
        "\n",
        "    if batch % 100 == 0 :\n",
        "      loss, current = loss.item(), batch * batch_size + len(X)\n",
        "      print(f'Loss : {loss:>7f} [{current:> 5d}] | {size : > 5d}')\n",
        "def test_loop(dataloader, model, loss_fn):\n",
        "  model.eval()\n",
        "  size = len(dataloader.dataset)\n",
        "  num_batches = len(dataloader)\n",
        "  test_loss, correct = 0,0\n",
        "\n",
        "  with torch.no_grad():\n",
        "    for X,y in dataloader:\n",
        "      pred = model(X)\n",
        "      test_loss += loss_fn(pred, y ).item()\n",
        "      correct += (pred.argmax(1) == y).type(torch.float).sum().item()\n",
        "\n",
        "    test_loss /= num_batches\n",
        "    correct /=size\n",
        "    print(f'Test Error : \\n Accuracy : {(100 * correct):> 0.1f}%, Avg loss : {test_loss :> 8f}\\n' )"
      ],
      "metadata": {
        "id": "94_5MZsqSlIX"
      },
      "execution_count": null,
      "outputs": []
    },
    {
      "cell_type": "code",
      "execution_count": null,
      "metadata": {
        "id": "2KoVrZnsGQ8Q"
      },
      "outputs": [],
      "source": [
        "def train_loop(dataloader, model, loss_fn, optimizer):\n",
        "    size = len(dataloader.dataset)\n",
        "    # Set the model to training mode - important for batch normalization and dropout layers\n",
        "    # Unnecessary in this situation but added for best practices\n",
        "    model.train()\n",
        "    for batch, (X, y) in enumerate(dataloader):\n",
        "      ## X : features, shape [batch_size, input_shape]\n",
        "      ## y : labels, shape[batch_size]\n",
        "\n",
        "        # Compute prediction and loss\n",
        "        pred = model(X)\n",
        "        loss = loss_fn(pred, y)\n",
        "\n",
        "        # Backpropagation\n",
        "        loss.backward()\n",
        "        optimizer.step()\n",
        "        optimizer.zero_grad()\n",
        "\n",
        "        if batch % 100 == 0:\n",
        "            loss, current = loss.item(), batch * batch_size + len(X)\n",
        "            print(f\"loss: {loss:>7f}  [{current:>5d}/{size:>5d}]\")\n",
        "\n",
        "\n",
        "def test_loop(dataloader, model, loss_fn):\n",
        "    # Set the model to evaluation mode - important for batch normalization and dropout layers\n",
        "    # Unnecessary in this situation but added for best practices\n",
        "    model.eval()\n",
        "    size = len(dataloader.dataset)\n",
        "    num_batches = len(dataloader)\n",
        "    test_loss, correct = 0, 0\n",
        "\n",
        "    # Evaluating the model with torch.no_grad() ensures that no gradients are computed during test mode\n",
        "    # also serves to reduce unnecessary gradient computations and memory usage for tensors with requires_grad=True\n",
        "    with torch.no_grad():\n",
        "        for X, y in dataloader:\n",
        "            pred = model(X)\n",
        "            test_loss += loss_fn(pred, y).item()\n",
        "            correct += (pred.argmax(1) == y).type(torch.float).sum().item()\n",
        "\n",
        "    test_loss /= num_batches\n",
        "    correct /= size\n",
        "    print(f\"Test Error: \\n Accuracy: {(100*correct):>0.1f}%, Avg loss: {test_loss:>8f} \\n\")"
      ]
    },
    {
      "cell_type": "markdown",
      "metadata": {
        "id": "BgXGiLJtGQ8Q"
      },
      "source": [
        "We initialize the loss function and optimizer, and pass it to\n",
        "`train_loop` and `test_loop`. Feel free to increase the number of epochs\n",
        "to track the model\\'s improving performance.\n"
      ]
    },
    {
      "cell_type": "code",
      "source": [
        "loss_fn = nn.CrossEntropyLoss()\n",
        "optimizer = torch.optim.SGD(model.parameters(), lr =learning_rate)\n",
        "\n",
        "epochs = 10\n",
        "\n",
        "for t in range(epochs):\n",
        "  print(f\"Ephoc {t+1} \\n ----------------------\")\n",
        "  train_loop(train_dataloader, model, loss_fn, optimizer)\n",
        "  test_loop(test_dataloader, model, loss_fn)\n",
        "print(\"Done!\")"
      ],
      "metadata": {
        "colab": {
          "base_uri": "https://localhost:8080/"
        },
        "id": "oPz9poXxTqzK",
        "outputId": "11496742-82d5-4215-f599-02fc0b64b565"
      },
      "execution_count": null,
      "outputs": [
        {
          "output_type": "stream",
          "name": "stdout",
          "text": [
            "Ephoc 1 \n",
            " ----------------------\n",
            "Loss : 2.150322 [   64] |  60000\n",
            "Loss : 2.144860 [ 6464] |  60000\n",
            "Loss : 2.077761 [ 12864] |  60000\n",
            "Loss : 2.104256 [ 19264] |  60000\n",
            "Loss : 2.054200 [ 25664] |  60000\n",
            "Loss : 1.973944 [ 32064] |  60000\n",
            "Loss : 2.019754 [ 38464] |  60000\n",
            "Loss : 1.930089 [ 44864] |  60000\n",
            "Loss : 1.939288 [ 51264] |  60000\n",
            "Loss : 1.864038 [ 57664] |  60000\n",
            "Test Error : \n",
            " Accuracy :  58.7%, Avg loss :  1.865825\n",
            "\n",
            "Ephoc 2 \n",
            " ----------------------\n",
            "Loss : 1.897071 [   64] |  60000\n",
            "Loss : 1.870526 [ 6464] |  60000\n",
            "Loss : 1.741436 [ 12864] |  60000\n",
            "Loss : 1.799236 [ 19264] |  60000\n",
            "Loss : 1.682038 [ 25664] |  60000\n",
            "Loss : 1.622418 [ 32064] |  60000\n",
            "Loss : 1.662996 [ 38464] |  60000\n",
            "Loss : 1.554569 [ 44864] |  60000\n",
            "Loss : 1.582278 [ 51264] |  60000\n",
            "Loss : 1.479257 [ 57664] |  60000\n",
            "Test Error : \n",
            " Accuracy :  63.1%, Avg loss :  1.497041\n",
            "\n",
            "Ephoc 3 \n",
            " ----------------------\n",
            "Loss : 1.558620 [   64] |  60000\n",
            "Loss : 1.533408 [ 6464] |  60000\n",
            "Loss : 1.367581 [ 12864] |  60000\n",
            "Loss : 1.460277 [ 19264] |  60000\n",
            "Loss : 1.332857 [ 25664] |  60000\n",
            "Loss : 1.318805 [ 32064] |  60000\n",
            "Loss : 1.348954 [ 38464] |  60000\n",
            "Loss : 1.268916 [ 44864] |  60000\n",
            "Loss : 1.302812 [ 51264] |  60000\n",
            "Loss : 1.204450 [ 57664] |  60000\n",
            "Test Error : \n",
            " Accuracy :  64.4%, Avg loss :  1.235061\n",
            "\n",
            "Ephoc 4 \n",
            " ----------------------\n",
            "Loss : 1.301828 [   64] |  60000\n",
            "Loss : 1.300312 [ 6464] |  60000\n",
            "Loss : 1.117674 [ 12864] |  60000\n",
            "Loss : 1.242635 [ 19264] |  60000\n",
            "Loss : 1.112456 [ 25664] |  60000\n",
            "Loss : 1.125723 [ 32064] |  60000\n",
            "Loss : 1.158237 [ 38464] |  60000\n",
            "Loss : 1.095081 [ 44864] |  60000\n",
            "Loss : 1.131816 [ 51264] |  60000\n",
            "Loss : 1.046023 [ 57664] |  60000\n",
            "Test Error : \n",
            " Accuracy :  65.3%, Avg loss :  1.075159\n",
            "\n",
            "Ephoc 5 \n",
            " ----------------------\n",
            "Loss : 1.132349 [   64] |  60000\n",
            "Loss : 1.155430 [ 6464] |  60000\n",
            "Loss : 0.954860 [ 12864] |  60000\n",
            "Loss : 1.107119 [ 19264] |  60000\n",
            "Loss : 0.980233 [ 25664] |  60000\n",
            "Loss : 0.997951 [ 32064] |  60000\n",
            "Loss : 1.042478 [ 38464] |  60000\n",
            "Loss : 0.985111 [ 44864] |  60000\n",
            "Loss : 1.021471 [ 51264] |  60000\n",
            "Loss : 0.947315 [ 57664] |  60000\n",
            "Test Error : \n",
            " Accuracy :  66.3%, Avg loss :  0.972468\n",
            "\n",
            "Ephoc 6 \n",
            " ----------------------\n",
            "Loss : 1.014587 [   64] |  60000\n",
            "Loss : 1.061317 [ 6464] |  60000\n",
            "Loss : 0.843009 [ 12864] |  60000\n",
            "Loss : 1.016268 [ 19264] |  60000\n",
            "Loss : 0.897750 [ 25664] |  60000\n",
            "Loss : 0.908637 [ 32064] |  60000\n",
            "Loss : 0.967578 [ 38464] |  60000\n",
            "Loss : 0.913339 [ 44864] |  60000\n",
            "Loss : 0.945405 [ 51264] |  60000\n",
            "Loss : 0.880531 [ 57664] |  60000\n",
            "Test Error : \n",
            " Accuracy :  67.6%, Avg loss :  0.902197\n",
            "\n",
            "Ephoc 7 \n",
            " ----------------------\n",
            "Loss : 0.928086 [   64] |  60000\n",
            "Loss : 0.995380 [ 6464] |  60000\n",
            "Loss : 0.762425 [ 12864] |  60000\n",
            "Loss : 0.951651 [ 19264] |  60000\n",
            "Loss : 0.842270 [ 25664] |  60000\n",
            "Loss : 0.843585 [ 32064] |  60000\n",
            "Loss : 0.915220 [ 38464] |  60000\n",
            "Loss : 0.864868 [ 44864] |  60000\n",
            "Loss : 0.890435 [ 51264] |  60000\n",
            "Loss : 0.832253 [ 57664] |  60000\n",
            "Test Error : \n",
            " Accuracy :  68.8%, Avg loss :  0.851172\n",
            "\n",
            "Ephoc 8 \n",
            " ----------------------\n",
            "Loss : 0.861359 [   64] |  60000\n",
            "Loss : 0.945430 [ 6464] |  60000\n",
            "Loss : 0.702076 [ 12864] |  60000\n",
            "Loss : 0.903447 [ 19264] |  60000\n",
            "Loss : 0.802143 [ 25664] |  60000\n",
            "Loss : 0.794695 [ 32064] |  60000\n",
            "Loss : 0.875527 [ 38464] |  60000\n",
            "Loss : 0.830625 [ 44864] |  60000\n",
            "Loss : 0.849155 [ 51264] |  60000\n",
            "Loss : 0.795183 [ 57664] |  60000\n",
            "Test Error : \n",
            " Accuracy :  70.0%, Avg loss :  0.812155\n",
            "\n",
            "Ephoc 9 \n",
            " ----------------------\n",
            "Loss : 0.807734 [   64] |  60000\n",
            "Loss : 0.904865 [ 6464] |  60000\n",
            "Loss : 0.655185 [ 12864] |  60000\n",
            "Loss : 0.866039 [ 19264] |  60000\n",
            "Loss : 0.771066 [ 25664] |  60000\n",
            "Loss : 0.756900 [ 32064] |  60000\n",
            "Loss : 0.843242 [ 38464] |  60000\n",
            "Loss : 0.805210 [ 44864] |  60000\n",
            "Loss : 0.816770 [ 51264] |  60000\n",
            "Loss : 0.765309 [ 57664] |  60000\n",
            "Test Error : \n",
            " Accuracy :  71.2%, Avg loss :  0.780937\n",
            "\n",
            "Ephoc 10 \n",
            " ----------------------\n",
            "Loss : 0.763677 [   64] |  60000\n",
            "Loss : 0.870267 [ 6464] |  60000\n",
            "Loss : 0.617518 [ 12864] |  60000\n",
            "Loss : 0.836143 [ 19264] |  60000\n",
            "Loss : 0.745526 [ 25664] |  60000\n",
            "Loss : 0.726953 [ 32064] |  60000\n",
            "Loss : 0.815532 [ 38464] |  60000\n",
            "Loss : 0.785099 [ 44864] |  60000\n",
            "Loss : 0.790324 [ 51264] |  60000\n",
            "Loss : 0.740375 [ 57664] |  60000\n",
            "Test Error : \n",
            " Accuracy :  72.6%, Avg loss :  0.754905\n",
            "\n",
            "Done!\n"
          ]
        }
      ]
    },
    {
      "cell_type": "code",
      "execution_count": null,
      "metadata": {
        "id": "T77Q9bFTGQ8Q"
      },
      "outputs": [],
      "source": [
        "loss_fn = nn.CrossEntropyLoss()\n",
        "optimizer = torch.optim.SGD(model.parameters(), lr=learning_rate)\n",
        "\n",
        "epochs = 10\n",
        "for t in range(epochs):\n",
        "    print(f\"Epoch {t+1}\\n-------------------------------\")\n",
        "    train_loop(train_dataloader, model, loss_fn, optimizer)\n",
        "    test_loop(test_dataloader, model, loss_fn)\n",
        "print(\"Done!\")"
      ]
    },
    {
      "cell_type": "markdown",
      "metadata": {
        "id": "oR876YdeGQ8Q"
      },
      "source": [
        "Further Reading\n",
        "===============\n",
        "\n",
        "-   [Loss\n",
        "    Functions](https://pytorch.org/docs/stable/nn.html#loss-functions)\n",
        "-   [torch.optim](https://pytorch.org/docs/stable/optim.html)\n",
        "-   [Warmstart Training a\n",
        "    Model](https://pytorch.org/tutorials/recipes/recipes/warmstarting_model_using_parameters_from_a_different_model.html)\n"
      ]
    }
  ],
  "metadata": {
    "kernelspec": {
      "display_name": "Python 3",
      "language": "python",
      "name": "python3"
    },
    "language_info": {
      "codemirror_mode": {
        "name": "ipython",
        "version": 3
      },
      "file_extension": ".py",
      "mimetype": "text/x-python",
      "name": "python",
      "nbconvert_exporter": "python",
      "pygments_lexer": "ipython3",
      "version": "3.10.12"
    },
    "colab": {
      "provenance": [],
      "name": "07_optimization_tutorial.ipynb",
      "include_colab_link": true
    }
  },
  "nbformat": 4,
  "nbformat_minor": 0
}